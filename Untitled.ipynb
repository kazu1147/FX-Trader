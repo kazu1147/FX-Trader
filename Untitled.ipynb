{
 "cells": [
  {
   "cell_type": "code",
   "execution_count": 16,
   "metadata": {},
   "outputs": [],
   "source": [
    "import pandas as pd\n",
    "import numpy as np\n",
    "import matplotlib.pyplot as plt"
   ]
  },
  {
   "cell_type": "code",
   "execution_count": 2,
   "metadata": {},
   "outputs": [],
   "source": [
    "from sqlalchemy import create_engine, ForeignKey, Table, DateTime\n",
    "from sqlalchemy.ext.declarative import declarative_base\n",
    "from sqlalchemy.schema import Column\n",
    "from sqlalchemy.types import Integer, String, Float\n",
    "from sqlalchemy.orm import sessionmaker, relationship\n",
    "import configparser"
   ]
  },
  {
   "cell_type": "code",
   "execution_count": 3,
   "metadata": {},
   "outputs": [],
   "source": [
    "# 接続先設定、エンジン設定\n",
    "conf = configparser.ConfigParser()\n",
    "settingsFilePath = \"settings.ini\"\n",
    "conf.read_file(open(settingsFilePath, \"r\"))\n",
    "\n",
    "db_user = conf['db']['user']\n",
    "db_pass = conf['db']['pass']\n",
    "db_host = conf['db']['host']\n",
    "db_port = conf['db']['port']\n",
    "db_name = conf['db']['name']\n",
    "database_url = f\"postgresql://{db_user}:{db_pass}@{db_host}:{db_port}/{db_name}\"\n",
    "engine=create_engine(database_url)"
   ]
  },
  {
   "cell_type": "code",
   "execution_count": 4,
   "metadata": {},
   "outputs": [],
   "source": [
    "# DB init、セッション準備\n",
    "Base=declarative_base()\n",
    "SessionClass=sessionmaker(engine)\n",
    "session=SessionClass()"
   ]
  },
  {
   "cell_type": "code",
   "execution_count": 5,
   "metadata": {},
   "outputs": [],
   "source": [
    "class Ticker_Minute_USD_JPY(Base):\n",
    "    __tablename__ = 'analytics_ticker_minute_usd_jpy'\n",
    "    id = Column(Integer, primary_key=True, autoincrement=True)\n",
    "    time = Column(DateTime)\n",
    "    open = Column(Float)\n",
    "    close = Column(Float)\n",
    "    high = Column(Float)\n",
    "    low = Column(Float)\n",
    "    volume = Column(Integer)\n",
    "    \n",
    "    def toDict(self):\n",
    "         return {'id': self.id, \n",
    "                 'time': self.time, \n",
    "                 'open': self.open,\n",
    "                 'close': self.close,\n",
    "                 'high': self.high,\n",
    "                 'low': self.low,\n",
    "                 'volume': self.volume}"
   ]
  },
  {
   "cell_type": "code",
   "execution_count": 6,
   "metadata": {},
   "outputs": [],
   "source": [
    "ticker_1min_lst = session.query(Ticker_Minute_USD_JPY).all()"
   ]
  },
  {
   "cell_type": "code",
   "execution_count": 7,
   "metadata": {},
   "outputs": [],
   "source": [
    "ticker_1min_lst = list(map(lambda x: x.toDict(), ticker_1min_lst))\n",
    "df = pd.DataFrame(ticker_1min_lst)"
   ]
  },
  {
   "cell_type": "code",
   "execution_count": 11,
   "metadata": {},
   "outputs": [],
   "source": [
    "df.set_index('id', inplace=True)"
   ]
  },
  {
   "cell_type": "code",
   "execution_count": 15,
   "metadata": {},
   "outputs": [
    {
     "data": {
      "text/html": [
       "<div>\n",
       "<style scoped>\n",
       "    .dataframe tbody tr th:only-of-type {\n",
       "        vertical-align: middle;\n",
       "    }\n",
       "\n",
       "    .dataframe tbody tr th {\n",
       "        vertical-align: top;\n",
       "    }\n",
       "\n",
       "    .dataframe thead th {\n",
       "        text-align: right;\n",
       "    }\n",
       "</style>\n",
       "<table border=\"1\" class=\"dataframe\">\n",
       "  <thead>\n",
       "    <tr style=\"text-align: right;\">\n",
       "      <th></th>\n",
       "      <th>time</th>\n",
       "      <th>open</th>\n",
       "      <th>close</th>\n",
       "      <th>high</th>\n",
       "      <th>low</th>\n",
       "      <th>volume</th>\n",
       "    </tr>\n",
       "    <tr>\n",
       "      <th>id</th>\n",
       "      <th></th>\n",
       "      <th></th>\n",
       "      <th></th>\n",
       "      <th></th>\n",
       "      <th></th>\n",
       "      <th></th>\n",
       "    </tr>\n",
       "  </thead>\n",
       "  <tbody>\n",
       "    <tr>\n",
       "      <th>414</th>\n",
       "      <td>2020-01-02 07:00:00+09:00</td>\n",
       "      <td>108.651</td>\n",
       "      <td>108.651</td>\n",
       "      <td>108.651</td>\n",
       "      <td>108.651</td>\n",
       "      <td>1</td>\n",
       "    </tr>\n",
       "    <tr>\n",
       "      <th>415</th>\n",
       "      <td>2020-01-02 07:01:00+09:00</td>\n",
       "      <td>108.751</td>\n",
       "      <td>108.751</td>\n",
       "      <td>108.751</td>\n",
       "      <td>108.751</td>\n",
       "      <td>1</td>\n",
       "    </tr>\n",
       "    <tr>\n",
       "      <th>416</th>\n",
       "      <td>2020-01-02 07:04:00+09:00</td>\n",
       "      <td>108.756</td>\n",
       "      <td>108.756</td>\n",
       "      <td>108.756</td>\n",
       "      <td>108.756</td>\n",
       "      <td>1</td>\n",
       "    </tr>\n",
       "    <tr>\n",
       "      <th>417</th>\n",
       "      <td>2020-01-02 07:05:00+09:00</td>\n",
       "      <td>108.761</td>\n",
       "      <td>108.761</td>\n",
       "      <td>108.761</td>\n",
       "      <td>108.761</td>\n",
       "      <td>1</td>\n",
       "    </tr>\n",
       "    <tr>\n",
       "      <th>418</th>\n",
       "      <td>2020-01-02 07:07:00+09:00</td>\n",
       "      <td>108.758</td>\n",
       "      <td>108.758</td>\n",
       "      <td>108.758</td>\n",
       "      <td>108.758</td>\n",
       "      <td>1</td>\n",
       "    </tr>\n",
       "    <tr>\n",
       "      <th>...</th>\n",
       "      <td>...</td>\n",
       "      <td>...</td>\n",
       "      <td>...</td>\n",
       "      <td>...</td>\n",
       "      <td>...</td>\n",
       "      <td>...</td>\n",
       "    </tr>\n",
       "    <tr>\n",
       "      <th>364614</th>\n",
       "      <td>2021-01-01 06:55:00+09:00</td>\n",
       "      <td>103.291</td>\n",
       "      <td>103.302</td>\n",
       "      <td>103.303</td>\n",
       "      <td>103.291</td>\n",
       "      <td>18</td>\n",
       "    </tr>\n",
       "    <tr>\n",
       "      <th>364615</th>\n",
       "      <td>2021-01-01 06:56:00+09:00</td>\n",
       "      <td>103.300</td>\n",
       "      <td>103.302</td>\n",
       "      <td>103.302</td>\n",
       "      <td>103.300</td>\n",
       "      <td>2</td>\n",
       "    </tr>\n",
       "    <tr>\n",
       "      <th>364616</th>\n",
       "      <td>2021-01-01 06:57:00+09:00</td>\n",
       "      <td>103.304</td>\n",
       "      <td>103.302</td>\n",
       "      <td>103.304</td>\n",
       "      <td>103.301</td>\n",
       "      <td>6</td>\n",
       "    </tr>\n",
       "    <tr>\n",
       "      <th>364617</th>\n",
       "      <td>2021-01-01 06:58:00+09:00</td>\n",
       "      <td>103.304</td>\n",
       "      <td>103.305</td>\n",
       "      <td>103.305</td>\n",
       "      <td>103.303</td>\n",
       "      <td>3</td>\n",
       "    </tr>\n",
       "    <tr>\n",
       "      <th>364618</th>\n",
       "      <td>2021-01-01 06:59:00+09:00</td>\n",
       "      <td>103.307</td>\n",
       "      <td>103.318</td>\n",
       "      <td>103.321</td>\n",
       "      <td>103.307</td>\n",
       "      <td>14</td>\n",
       "    </tr>\n",
       "  </tbody>\n",
       "</table>\n",
       "<p>364205 rows × 6 columns</p>\n",
       "</div>"
      ],
      "text/plain": [
       "                            time     open    close     high      low  volume\n",
       "id                                                                          \n",
       "414    2020-01-02 07:00:00+09:00  108.651  108.651  108.651  108.651       1\n",
       "415    2020-01-02 07:01:00+09:00  108.751  108.751  108.751  108.751       1\n",
       "416    2020-01-02 07:04:00+09:00  108.756  108.756  108.756  108.756       1\n",
       "417    2020-01-02 07:05:00+09:00  108.761  108.761  108.761  108.761       1\n",
       "418    2020-01-02 07:07:00+09:00  108.758  108.758  108.758  108.758       1\n",
       "...                          ...      ...      ...      ...      ...     ...\n",
       "364614 2021-01-01 06:55:00+09:00  103.291  103.302  103.303  103.291      18\n",
       "364615 2021-01-01 06:56:00+09:00  103.300  103.302  103.302  103.300       2\n",
       "364616 2021-01-01 06:57:00+09:00  103.304  103.302  103.304  103.301       6\n",
       "364617 2021-01-01 06:58:00+09:00  103.304  103.305  103.305  103.303       3\n",
       "364618 2021-01-01 06:59:00+09:00  103.307  103.318  103.321  103.307      14\n",
       "\n",
       "[364205 rows x 6 columns]"
      ]
     },
     "execution_count": 15,
     "metadata": {},
     "output_type": "execute_result"
    }
   ],
   "source": [
    "# 念のため昇順にする\n",
    "df.sort_values(\"time\", inplace=True)"
   ]
  },
  {
   "cell_type": "code",
   "execution_count": null,
   "metadata": {},
   "outputs": [],
   "source": [
    "# 補間作業\n",
    "# 1: 土曜の7時から月曜の7時まで(6:59/JPY)の0補間を行う\n",
    "# 2: 前後補間を行う"
   ]
  },
  {
   "cell_type": "code",
   "execution_count": 22,
   "metadata": {},
   "outputs": [
    {
     "data": {
      "text/plain": [
       "[<matplotlib.lines.Line2D at 0x1cb34eba948>]"
      ]
     },
     "execution_count": 22,
     "metadata": {},
     "output_type": "execute_result"
    },
    {
     "data": {
      "image/png": "[encoded data removed]",
      "text/plain": [
       "<Figure size 432x288 with 1 Axes>"
      ]
     },
     "metadata": {
      "needs_background": "light"
     },
     "output_type": "display_data"
    }
   ],
   "source": [
    "plt.plot(df[\"time\"].values[:10000], df[\"close\"].values[:10000])"
   ]
  }
 ],
 "metadata": {
  "kernelspec": {
   "display_name": "Python 3",
   "language": "python",
   "name": "python3"
  },
  "language_info": {
   "codemirror_mode": {
    "name": "ipython",
    "version": 3
   },
   "file_extension": ".py",
   "mimetype": "text/x-python",
   "name": "python",
   "nbconvert_exporter": "python",
   "pygments_lexer": "ipython3",
   "version": "3.7.7"
  }
 },
 "nbformat": 4,
 "nbformat_minor": 4
}
